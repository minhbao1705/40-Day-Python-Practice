{
 "cells": [
  {
   "cell_type": "code",
   "execution_count": 1,
   "metadata": {},
   "outputs": [
    {
     "name": "stdout",
     "output_type": "stream",
     "text": [
      "Danh sách mua sắm: \n",
      "1. Cà rốt\n",
      "2. Táo\n",
      "3. Sữa\n"
     ]
    }
   ],
   "source": [
    "# Method 1\n",
    "shopping_list = [\"Cà rốt\", \"Táo\", \"Sữa\"]\n",
    "\n",
    "print(\"Danh sách mua sắm: \")\n",
    "for index in range(len(shopping_list)):\n",
    "    print(f\"{index+1}. {shopping_list[index]}\")"
   ]
  },
  {
   "cell_type": "code",
   "execution_count": 2,
   "metadata": {},
   "outputs": [
    {
     "name": "stdout",
     "output_type": "stream",
     "text": [
      "Danh sách mua sắm: \n",
      "1. Cà rốt\n",
      "2. Táo\n",
      "3. Sữa\n"
     ]
    }
   ],
   "source": [
    "# Method 2\n",
    "shopping_list = [\"Cà rốt\", \"Táo\", \"Sữa\"]\n",
    "\n",
    "print(\"Danh sách mua sắm: \")\n",
    "for index, item in enumerate(shopping_list, start=1):\n",
    "    print(f\"{index}. {item}\")"
   ]
  },
  {
   "cell_type": "code",
   "execution_count": 3,
   "metadata": {},
   "outputs": [],
   "source": [
    "food_list = [\n",
    "    [\"Bơ\", \"Pizza\", \"Sữa\"],\n",
    "    [\"Xúc Xích\", \"Táo\", \"Kem\"],\n",
    "    [\"Cà rốt\", \"Bánh dâu\", \"Cupcake\"]\n",
    "]\n",
    "\n",
    "searh_item = [\"Cà rốt\", \"Táo\", \"Sữa\"]"
   ]
  },
  {
   "cell_type": "code",
   "execution_count": 4,
   "metadata": {},
   "outputs": [
    {
     "name": "stdout",
     "output_type": "stream",
     "text": [
      "Sữa đươc tìm thấy ở hàng 1 và cột 3.\n",
      "Táo đươc tìm thấy ở hàng 2 và cột 2.\n",
      "Cà rốt đươc tìm thấy ở hàng 3 và cột 1.\n"
     ]
    }
   ],
   "source": [
    "# Method 1\n",
    "# Lặp qua từng hàng của danh sách thực phẩm\n",
    "for i in range(len(food_list)):\n",
    "    # Lặp qua từng phần tử trong hàng đó\n",
    "    for j in range(len(food_list[i])):\n",
    "        # Kiểm tra xem phần tử có trong danh sách tìm kiếm không\n",
    "        if food_list[i][j] in searh_item:\n",
    "            # In ra vị trí nếu phần tử được tìm thấy\n",
    "            print(f\"{food_list[i][j]} đươc tìm \"\n",
    "                  f\"thấy ở hàng {i + 1} và cột {j +1}.\")"
   ]
  },
  {
   "cell_type": "code",
   "execution_count": 5,
   "metadata": {},
   "outputs": [
    {
     "name": "stdout",
     "output_type": "stream",
     "text": [
      "Sữa được tìm thấy ở hàng 1 và cột 3.\n",
      "Táo được tìm thấy ở hàng 2 và cột 2.\n",
      "Cà rốt được tìm thấy ở hàng 3 và cột 1.\n"
     ]
    }
   ],
   "source": [
    "# Method 2\n",
    "# Lặp qua từng hàng của danh sách thưc phẩm\n",
    "# và lấy ra chỉ số của hàng đó\n",
    "for i, row in enumerate(food_list, start=1):\n",
    "    # Lặp qua từng phần tử trong hàng\n",
    "    # và lấy ra chỉ số của phần tử đó\n",
    "    for j, item in enumerate(row, start=1):\n",
    "        # kiểm tra xem phần tử có trong\n",
    "        # danh sách tìm kiếm không\n",
    "        if item in searh_item:\n",
    "            # In ra vị trí nếu phần tử được tìm thấy\n",
    "            print(f\"{item} được tìm thấy \"\n",
    "                  f\"ở hàng {i} và cột {j}.\")"
   ]
  }
 ],
 "metadata": {
  "kernelspec": {
   "display_name": "Python 3",
   "language": "python",
   "name": "python3"
  },
  "language_info": {
   "codemirror_mode": {
    "name": "ipython",
    "version": 3
   },
   "file_extension": ".py",
   "mimetype": "text/x-python",
   "name": "python",
   "nbconvert_exporter": "python",
   "pygments_lexer": "ipython3",
   "version": "3.12.1"
  }
 },
 "nbformat": 4,
 "nbformat_minor": 2
}
