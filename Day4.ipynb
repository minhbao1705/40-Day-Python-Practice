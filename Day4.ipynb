{
 "cells": [
  {
   "cell_type": "markdown",
   "metadata": {},
   "source": [
    "String là một chuỗi các ký tự đc bao quanh bởi nháy đơn hoặc nháy kép \n",
    "\n",
    "f-string dùng để kết hợp sử dụng giá trị của biến trong python"
   ]
  },
  {
   "cell_type": "code",
   "execution_count": 1,
   "metadata": {},
   "outputs": [
    {
     "name": "stdout",
     "output_type": "stream",
     "text": [
      "Tom học lập trình tại AI VIETNAM\n"
     ]
    }
   ],
   "source": [
    "student_name = \"Tom\"\n",
    "class_name = \"AI VIETNAM\"\n",
    "message = f\"{student_name} học lập trình tại {class_name}\"\n",
    "print(message)"
   ]
  },
  {
   "cell_type": "code",
   "execution_count": 2,
   "metadata": {},
   "outputs": [
    {
     "name": "stdout",
     "output_type": "stream",
     "text": [
      "Tom học lập trình tại AI VIETNAM\n"
     ]
    }
   ],
   "source": [
    "print(f\"{student_name} học lập trình tại {class_name}\")"
   ]
  },
  {
   "cell_type": "markdown",
   "metadata": {},
   "source": [
    "Các phương thức để biến đổi string\n",
    "\n",
    "\n",
    "lower(): để viết thường\n",
    "\n",
    "upper(): để viết hoa mọi ký tự trong string\n",
    "\n",
    "title(): viết hoa các ký tự đầu ở mỗi từ"
   ]
  },
  {
   "cell_type": "code",
   "execution_count": 3,
   "metadata": {},
   "outputs": [
    {
     "name": "stdout",
     "output_type": "stream",
     "text": [
      "Alice is a great teacher!\n"
     ]
    }
   ],
   "source": [
    "name = \"Alice\"\n",
    "print(f'{name} is a great teacher!')"
   ]
  },
  {
   "cell_type": "code",
   "execution_count": 5,
   "metadata": {},
   "outputs": [
    {
     "name": "stdout",
     "output_type": "stream",
     "text": [
      "Title case:  Ms Taylor\n",
      "Upper case:  MS TAYLOR\n",
      "Lower case:  ms taylor\n"
     ]
    }
   ],
   "source": [
    "name = \"ms Taylor\"\n",
    "\n",
    "print(\"Title case: \",name.title())\n",
    "print(\"Upper case: \",name.upper())\n",
    "print(\"Lower case: \",name.lower())"
   ]
  }
 ],
 "metadata": {
  "kernelspec": {
   "display_name": "Python 3",
   "language": "python",
   "name": "python3"
  },
  "language_info": {
   "codemirror_mode": {
    "name": "ipython",
    "version": 3
   },
   "file_extension": ".py",
   "mimetype": "text/x-python",
   "name": "python",
   "nbconvert_exporter": "python",
   "pygments_lexer": "ipython3",
   "version": "3.12.1"
  }
 },
 "nbformat": 4,
 "nbformat_minor": 2
}
